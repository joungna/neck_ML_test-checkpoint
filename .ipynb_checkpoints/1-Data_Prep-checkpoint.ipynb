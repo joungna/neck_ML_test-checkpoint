{
 "cells": [
  {
   "cell_type": "markdown",
   "metadata": {},
   "source": [
    "## 한국인 군입대 남성 목둘레치수를 예측해 개인 맞춤형 군복제작하기\n",
    "한국인 신체치수데이터로 20,30대 군입대 남성 신체데이터 추출해\n",
    "목둘레 치수를 이용하여 개인 맞춤형 군복제작에 활용\n"
   ]
  },
  {
   "cell_type": "markdown",
   "metadata": {},
   "source": [
    "## Data Sources\n",
    "한국인 신체 데이터 자료 분석 \n",
    "https://sizekorea.kr/"
   ]
  },
  {
   "cell_type": "markdown",
   "metadata": {},
   "source": [
    "## Changes\n",
    "2015년 7월 한국인 신체데이터 참고"
   ]
  },
  {
   "cell_type": "markdown",
   "metadata": {},
   "source": [
    "## 주요 라이브러리"
   ]
  },
  {
   "cell_type": "code",
   "execution_count": 2,
   "metadata": {},
   "outputs": [],
   "source": [
    "import numpy as np\n",
    "import pandas as pd\n",
    "from pathlib import Path\n",
    "from datetime import datetime\n",
    "import sys"
   ]
  },
  {
   "cell_type": "markdown",
   "metadata": {},
   "source": [
    "#### Data Set File Locations 및 데이터 확인"
   ]
  },
  {
   "cell_type": "code",
   "execution_count": 9,
   "metadata": {},
   "outputs": [],
   "source": [
    "#today = datetime.today()\n",
    "#train = Path.cwd() / \"data\" / \"raw\" / \"2015_7_sizeKoreaData.csv\"\n",
    "#test = Path.cwd() / \"data\" / \"raw\" / \"2015_7_sizeKoreaData.csv\"\n",
    "#pipeline_file = Path.cwd() / \"data\" / \"raw\" / \"pipeline_data.xlsx\"\n",
    "#summary_file = Path.cwd() / \"data\" / \"processed\" / f\"summary_{today:%b-%d-%Y}.pkl\"\n"
   ]
  },
  {
   "cell_type": "code",
   "execution_count": 10,
   "metadata": {},
   "outputs": [
    {
     "data": {
      "text/html": [
       "<div>\n",
       "<style scoped>\n",
       "    .dataframe tbody tr th:only-of-type {\n",
       "        vertical-align: middle;\n",
       "    }\n",
       "\n",
       "    .dataframe tbody tr th {\n",
       "        vertical-align: top;\n",
       "    }\n",
       "\n",
       "    .dataframe thead th {\n",
       "        text-align: right;\n",
       "    }\n",
       "</style>\n",
       "<table border=\"1\" class=\"dataframe\">\n",
       "  <thead>\n",
       "    <tr style=\"text-align: right;\">\n",
       "      <th></th>\n",
       "      <th>02 성별</th>\n",
       "      <th>06_나이_반올림</th>\n",
       "      <th>001_오른쪽어깨경사각</th>\n",
       "      <th>002_왼쪽어깨경사각</th>\n",
       "      <th>003_키</th>\n",
       "      <th>005_목뒤높이</th>\n",
       "      <th>017_샅높이</th>\n",
       "      <th>031_몸무게</th>\n",
       "      <th>037_목둘레</th>\n",
       "      <th>038_목밑둘레</th>\n",
       "      <th>...</th>\n",
       "      <th>064_팔길이</th>\n",
       "      <th>065_팔안쪽길이</th>\n",
       "      <th>069_다리가쪽길이</th>\n",
       "      <th>111_머리둘레</th>\n",
       "      <th>121_넙다리둘레</th>\n",
       "      <th>122_넙다리중간둘레</th>\n",
       "      <th>123_무릎둘레</th>\n",
       "      <th>125_장딴지둘레</th>\n",
       "      <th>130_위팔둘레</th>\n",
       "      <th>131_팔꿈치둘레</th>\n",
       "    </tr>\n",
       "  </thead>\n",
       "  <tbody>\n",
       "    <tr>\n",
       "      <th>0</th>\n",
       "      <td>남</td>\n",
       "      <td>25</td>\n",
       "      <td>24.0</td>\n",
       "      <td>20.0</td>\n",
       "      <td>1,736</td>\n",
       "      <td>1,462</td>\n",
       "      <td>791.0</td>\n",
       "      <td>72.1</td>\n",
       "      <td>385.0</td>\n",
       "      <td>NaN</td>\n",
       "      <td>...</td>\n",
       "      <td>590.0</td>\n",
       "      <td>450.0</td>\n",
       "      <td>1,022</td>\n",
       "      <td>575.0</td>\n",
       "      <td>564.0</td>\n",
       "      <td>533.0</td>\n",
       "      <td>367.0</td>\n",
       "      <td>370.0</td>\n",
       "      <td>325.0</td>\n",
       "      <td>286.0</td>\n",
       "    </tr>\n",
       "    <tr>\n",
       "      <th>1</th>\n",
       "      <td>남</td>\n",
       "      <td>28</td>\n",
       "      <td>16.0</td>\n",
       "      <td>18.0</td>\n",
       "      <td>1,833</td>\n",
       "      <td>1,575</td>\n",
       "      <td>848.0</td>\n",
       "      <td>106.2</td>\n",
       "      <td>418.0</td>\n",
       "      <td>NaN</td>\n",
       "      <td>...</td>\n",
       "      <td>660.0</td>\n",
       "      <td>464.0</td>\n",
       "      <td>1,120</td>\n",
       "      <td>610.0</td>\n",
       "      <td>704.0</td>\n",
       "      <td>636.0</td>\n",
       "      <td>414.0</td>\n",
       "      <td>439.0</td>\n",
       "      <td>395.0</td>\n",
       "      <td>318.0</td>\n",
       "    </tr>\n",
       "    <tr>\n",
       "      <th>2</th>\n",
       "      <td>남</td>\n",
       "      <td>19</td>\n",
       "      <td>20.0</td>\n",
       "      <td>18.0</td>\n",
       "      <td>1,744</td>\n",
       "      <td>1,470</td>\n",
       "      <td>794.0</td>\n",
       "      <td>69.1</td>\n",
       "      <td>400.0</td>\n",
       "      <td>NaN</td>\n",
       "      <td>...</td>\n",
       "      <td>576.0</td>\n",
       "      <td>453.0</td>\n",
       "      <td>1,027</td>\n",
       "      <td>613.0</td>\n",
       "      <td>544.0</td>\n",
       "      <td>518.0</td>\n",
       "      <td>372.0</td>\n",
       "      <td>380.0</td>\n",
       "      <td>313.0</td>\n",
       "      <td>291.0</td>\n",
       "    </tr>\n",
       "    <tr>\n",
       "      <th>3</th>\n",
       "      <td>남</td>\n",
       "      <td>20</td>\n",
       "      <td>22.0</td>\n",
       "      <td>18.0</td>\n",
       "      <td>1,751</td>\n",
       "      <td>1,473</td>\n",
       "      <td>767.0</td>\n",
       "      <td>68.4</td>\n",
       "      <td>355.0</td>\n",
       "      <td>NaN</td>\n",
       "      <td>...</td>\n",
       "      <td>581.0</td>\n",
       "      <td>460.0</td>\n",
       "      <td>1,049</td>\n",
       "      <td>605.0</td>\n",
       "      <td>570.0</td>\n",
       "      <td>545.0</td>\n",
       "      <td>372.0</td>\n",
       "      <td>368.0</td>\n",
       "      <td>303.0</td>\n",
       "      <td>295.0</td>\n",
       "    </tr>\n",
       "    <tr>\n",
       "      <th>4</th>\n",
       "      <td>남</td>\n",
       "      <td>22</td>\n",
       "      <td>16.0</td>\n",
       "      <td>16.0</td>\n",
       "      <td>1,851</td>\n",
       "      <td>1,564</td>\n",
       "      <td>859.0</td>\n",
       "      <td>81.9</td>\n",
       "      <td>394.0</td>\n",
       "      <td>NaN</td>\n",
       "      <td>...</td>\n",
       "      <td>615.0</td>\n",
       "      <td>499.0</td>\n",
       "      <td>1,132</td>\n",
       "      <td>580.0</td>\n",
       "      <td>594.0</td>\n",
       "      <td>545.0</td>\n",
       "      <td>393.0</td>\n",
       "      <td>391.0</td>\n",
       "      <td>304.0</td>\n",
       "      <td>291.0</td>\n",
       "    </tr>\n",
       "  </tbody>\n",
       "</table>\n",
       "<p>5 rows × 30 columns</p>\n",
       "</div>"
      ],
      "text/plain": [
       "  02 성별  06_나이_반올림  001_오른쪽어깨경사각  002_왼쪽어깨경사각  003_키 005_목뒤높이  017_샅높이  \\\n",
       "0     남         25          24.0         20.0  1,736    1,462    791.0   \n",
       "1     남         28          16.0         18.0  1,833    1,575    848.0   \n",
       "2     남         19          20.0         18.0  1,744    1,470    794.0   \n",
       "3     남         20          22.0         18.0  1,751    1,473    767.0   \n",
       "4     남         22          16.0         16.0  1,851    1,564    859.0   \n",
       "\n",
       "   031_몸무게  037_목둘레  038_목밑둘레    ...     064_팔길이 065_팔안쪽길이 069_다리가쪽길이  \\\n",
       "0     72.1    385.0       NaN    ...       590.0     450.0      1,022   \n",
       "1    106.2    418.0       NaN    ...       660.0     464.0      1,120   \n",
       "2     69.1    400.0       NaN    ...       576.0     453.0      1,027   \n",
       "3     68.4    355.0       NaN    ...       581.0     460.0      1,049   \n",
       "4     81.9    394.0       NaN    ...       615.0     499.0      1,132   \n",
       "\n",
       "  111_머리둘레 121_넙다리둘레 122_넙다리중간둘레 123_무릎둘레  125_장딴지둘레  130_위팔둘레  131_팔꿈치둘레  \n",
       "0    575.0     564.0       533.0    367.0      370.0     325.0      286.0  \n",
       "1    610.0     704.0       636.0    414.0      439.0     395.0      318.0  \n",
       "2    613.0     544.0       518.0    372.0      380.0     313.0      291.0  \n",
       "3    605.0     570.0       545.0    372.0      368.0     303.0      295.0  \n",
       "4    580.0     594.0       545.0    393.0      391.0     304.0      291.0  \n",
       "\n",
       "[5 rows x 30 columns]"
      ]
     },
     "execution_count": 10,
     "metadata": {},
     "output_type": "execute_result"
    }
   ],
   "source": [
    "sizeKoreaData = pd.read_csv(\"data/raw/2015_7_sizeKoreaData.csv\", encoding = \"euc_kr\") \n",
    "sizeKoreaData.head()\n",
    "#print(\"{}\".format(sys.stdout.encoding))"
   ]
  },
  {
   "cell_type": "markdown",
   "metadata": {},
   "source": [
    "#### Column Cleanup, 데이터 전처리\n",
    "- 빈칸 이동(삭제), consistency columns 이름 수정\n",
    "- analyticsindiamag 사이트의 5가지 일반적인 데이터전처리 방법으로 null data 처리\n",
    "\n",
    "https://www.analyticsindiamag.com/5-ways-handle-missing-values-machine-learning-datasets/"
   ]
  },
  {
   "cell_type": "code",
   "execution_count": 14,
   "metadata": {},
   "outputs": [
    {
     "data": {
      "text/plain": [
       "02 성별           0\n",
       "06_나이_반올림       0\n",
       "001_오른쪽어깨경사각    0\n",
       "002_왼쪽어깨경사각     0\n",
       "003_키           0\n",
       "005_목뒤높이        0\n",
       "017_샅높이         0\n",
       "031_몸무게         0\n",
       "037_목둘레         0\n",
       "038_목밑둘레        0\n",
       "039_가슴둘레        0\n",
       "040_젖가슴둘레       0\n",
       "042_허리둘레        0\n",
       "043_배꼽수준허리둘레    0\n",
       "044_배둘레         0\n",
       "045_엉덩이둘레       0\n",
       "052_총길이         0\n",
       "054_어깨사이길이      0\n",
       "055_어깨가쪽사이길이    0\n",
       "063_위팔길이        0\n",
       "064_팔길이         0\n",
       "065_팔안쪽길이       0\n",
       "069_다리가쪽길이      0\n",
       "111_머리둘레        0\n",
       "121_넙다리둘레       0\n",
       "122_넙다리중간둘레     0\n",
       "123_무릎둘레        0\n",
       "125_장딴지둘레       0\n",
       "130_위팔둘레        0\n",
       "131_팔꿈치둘레       0\n",
       "dtype: int64"
      ]
     },
     "execution_count": 14,
     "metadata": {},
     "output_type": "execute_result"
    }
   ],
   "source": [
    "#null data에 대한 전처리\n",
    "sizeKoreaData.isnull().sum()\n",
    "\n",
    "#null data가 있는 row는 삭제\n",
    "sizeKoreaData.dropna(inplace=True)\n",
    "\n",
    "sizeKoreaData.isnull().sum()"
   ]
  },
  {
   "cell_type": "markdown",
   "metadata": {},
   "source": [
    "#### Clean Up Data Types\n",
    "- "
   ]
  },
  {
   "cell_type": "code",
   "execution_count": 15,
   "metadata": {},
   "outputs": [
    {
     "data": {
      "text/plain": [
       "02 성별            object\n",
       "06_나이_반올림         int64\n",
       "001_오른쪽어깨경사각    float64\n",
       "002_왼쪽어깨경사각     float64\n",
       "003_키            object\n",
       "005_목뒤높이         object\n",
       "017_샅높이         float64\n",
       "031_몸무게         float64\n",
       "037_목둘레         float64\n",
       "038_목밑둘레        float64\n",
       "039_가슴둘레         object\n",
       "040_젖가슴둘레        object\n",
       "042_허리둘레         object\n",
       "043_배꼽수준허리둘레     object\n",
       "044_배둘레          object\n",
       "045_엉덩이둘레        object\n",
       "052_총길이          object\n",
       "054_어깨사이길이      float64\n",
       "055_어깨가쪽사이길이    float64\n",
       "063_위팔길이        float64\n",
       "064_팔길이         float64\n",
       "065_팔안쪽길이       float64\n",
       "069_다리가쪽길이       object\n",
       "111_머리둘레        float64\n",
       "121_넙다리둘레       float64\n",
       "122_넙다리중간둘레     float64\n",
       "123_무릎둘레        float64\n",
       "125_장딴지둘레       float64\n",
       "130_위팔둘레        float64\n",
       "131_팔꿈치둘레       float64\n",
       "dtype: object"
      ]
     },
     "execution_count": 15,
     "metadata": {},
     "output_type": "execute_result"
    }
   ],
   "source": [
    "sizeKoreaData.dtypes"
   ]
  },
  {
   "cell_type": "markdown",
   "metadata": {},
   "source": [
    "#### Data Manipulation\n",
    "- 인위적인 데이터 조작을 했을 경우 기입"
   ]
  },
  {
   "cell_type": "markdown",
   "metadata": {},
   "source": [
    "#### Save output file into processed directory\n",
    "작업완료 파일 저장"
   ]
  },
  {
   "cell_type": "code",
   "execution_count": 16,
   "metadata": {},
   "outputs": [],
   "source": [
    "sizeKoreaData.to_pickle(summary_file)"
   ]
  },
  {
   "cell_type": "markdown",
   "metadata": {},
   "source": [
    "#### (참고)파이썬 객체 관리 확인\n",
    "생성된 파이썬 객체를 파일로 저장하는 경우에는 보통 .pkl이라는 확장자를 사용\n"
   ]
  }
 ],
 "metadata": {
  "kernelspec": {
   "display_name": "Python 3",
   "language": "python",
   "name": "python3"
  },
  "language_info": {
   "codemirror_mode": {
    "name": "ipython",
    "version": 3
   },
   "file_extension": ".py",
   "mimetype": "text/x-python",
   "name": "python",
   "nbconvert_exporter": "python",
   "pygments_lexer": "ipython3",
   "version": "3.6.7"
  }
 },
 "nbformat": 4,
 "nbformat_minor": 2
}
